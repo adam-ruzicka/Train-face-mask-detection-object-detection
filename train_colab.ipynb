{
  "nbformat": 4,
  "nbformat_minor": 0,
  "metadata": {
    "colab": {
      "provenance": []
    },
    "kernelspec": {
      "name": "python3",
      "display_name": "Python 3"
    },
    "language_info": {
      "name": "python"
    },
    "accelerator": "GPU",
    "gpuClass": "standard"
  },
  "cells": [
    {
      "cell_type": "code",
      "execution_count": null,
      "metadata": {
        "id": "RyMqiDKR_e0P"
      },
      "outputs": [],
      "source": [
        "!sudo apt-get install python3.7\n",
        "!update-alternatives --install /usr/bin/python python /usr/bin/python3.7 1"
      ]
    },
    {
      "cell_type": "code",
      "source": [
        "!update-alternatives --list python"
      ],
      "metadata": {
        "id": "wq0KfKej_gIB"
      },
      "execution_count": null,
      "outputs": []
    },
    {
      "cell_type": "code",
      "source": [
        "!sudo update-alternatives --config python"
      ],
      "metadata": {
        "id": "lIHnHh6k_hVg"
      },
      "execution_count": null,
      "outputs": []
    },
    {
      "cell_type": "code",
      "source": [
        "!sudo update-alternatives --set python /usr/bin/python3.7"
      ],
      "metadata": {
        "id": "xCUJskC-_i5C"
      },
      "execution_count": null,
      "outputs": []
    },
    {
      "cell_type": "code",
      "source": [
        "!sudo apt-get update -y\n",
        "!sudo apt-get install python3.7\n",
        "from IPython.display import clear_output \n",
        "clear_output()\n",
        "!sudo update-alternatives --install /usr/bin/python3 python3 /usr/bin/python3.7 1\n",
        "\n",
        "!sudo update-alternatives --config python3\n",
        "\n",
        "!python3 --version\n",
        "\n",
        "!sudo apt install python3-pip"
      ],
      "metadata": {
        "id": "NOQRvt55_jvG"
      },
      "execution_count": null,
      "outputs": []
    },
    {
      "cell_type": "code",
      "source": [
        "!python3 --version"
      ],
      "metadata": {
        "id": "5VX3MVID_nI-"
      },
      "execution_count": null,
      "outputs": []
    },
    {
      "cell_type": "code",
      "source": [
        "from google.colab import drive\n",
        "drive.mount('/content/gdrive')\n",
        "!ln -s /content/gdrive/MyDrive /drive\n",
        "!ls /drive"
      ],
      "metadata": {
        "id": "vSkHDMx8_sP_"
      },
      "execution_count": null,
      "outputs": []
    },
    {
      "cell_type": "code",
      "source": [
        "!git clone https://github.com/tensorflow/models.git"
      ],
      "metadata": {
        "id": "E3KnDl0U_tIX"
      },
      "execution_count": null,
      "outputs": []
    },
    {
      "cell_type": "code",
      "source": [
        "%cd models/research"
      ],
      "metadata": {
        "id": "c91e7a0i_uBF"
      },
      "execution_count": null,
      "outputs": []
    },
    {
      "cell_type": "code",
      "source": [
        "!protoc object_detection/protos/*.proto --python_out=."
      ],
      "metadata": {
        "id": "wglGOdby_vEv"
      },
      "execution_count": null,
      "outputs": []
    },
    {
      "cell_type": "code",
      "source": [
        "!sudo add-apt-repository ppa:deadsnakes/ppa\n",
        "!sudo apt-get update"
      ],
      "metadata": {
        "id": "LmeuJr4dANeD"
      },
      "execution_count": null,
      "outputs": []
    },
    {
      "cell_type": "code",
      "source": [
        "!sudo apt-get install python3.7-dev\n",
        "!sudo apt install python3.7-distutils"
      ],
      "metadata": {
        "id": "98vR-GTtAPVf"
      },
      "execution_count": null,
      "outputs": []
    },
    {
      "cell_type": "code",
      "source": [
        "!cp object_detection/packages/tf2/setup.py .\n",
        "!python -m pip install ."
      ],
      "metadata": {
        "id": "COKM1HLCARfZ"
      },
      "execution_count": null,
      "outputs": []
    },
    {
      "cell_type": "code",
      "source": [
        "!python object_detection/builders/model_builder_tf2_test.py"
      ],
      "metadata": {
        "id": "t4SCvjOJATzh"
      },
      "execution_count": null,
      "outputs": []
    },
    {
      "cell_type": "code",
      "source": [
        "%cd /content/gdrive/MyDrive"
      ],
      "metadata": {
        "id": "xZwmjLA-AVQs"
      },
      "execution_count": null,
      "outputs": []
    },
    {
      "cell_type": "code",
      "source": [
        "!git clone https://github.com/ZakiRangwala/Mask-Detector.git\n",
        "%cd Mask-Detector"
      ],
      "metadata": {
        "id": "C6yVyBaIAWJv"
      },
      "execution_count": null,
      "outputs": []
    },
    {
      "cell_type": "code",
      "source": [
        "%load_ext tensorboard\n",
        "%tensorboard --logdir 'Tensorflow/workspace/models/my_ssd_mobnet'"
      ],
      "metadata": {
        "id": "I0sQrJJHAXia"
      },
      "execution_count": null,
      "outputs": []
    },
    {
      "cell_type": "code",
      "source": [
        "!python /content/models/research/object_detection/model_main_tf2.py --pipeline_config_path=Tensorflow/workspace/models/pipeline.config --model_dir=Tensorflow/workspace/models/my_ssd_mobnet --alsologtostderr"
      ],
      "metadata": {
        "id": "TluSDWRCAYBq"
      },
      "execution_count": null,
      "outputs": []
    },
    {
      "cell_type": "code",
      "source": [
        "!python /content/models/research/object_detection/model_main_tf2.py --pipeline_config_path=Tensorflow/workspace/models/pipeline.config --model_dir=Tensorflow/workspace/models/my_ssd_mobnet --checkpoint_dir=Tensorflow/workspace/models/my_ssd_mobnet --alsologtostderr"
      ],
      "metadata": {
        "id": "iaxZiYCObtzX"
      },
      "execution_count": null,
      "outputs": []
    },
    {
      "cell_type": "code",
      "source": [
        "!python /content/models/research/object_detection/exporter_main_v2.py --trained_checkpoint_dir=Tensorflow/workspace/models/my_ssd_mobnet --pipeline_config_path=Tensorflow/workspace/models/pipeline.config --output_directory Tensorflow/workspace/inference_graph"
      ],
      "metadata": {
        "id": "rnGPpQWoazCz"
      },
      "execution_count": null,
      "outputs": []
    }
  ]
}